{
 "cells": [
  {
   "cell_type": "code",
   "execution_count": 1,
   "metadata": {},
   "outputs": [
    {
     "data": {
      "text/html": [
       "<style>.container { width:100% !important; }</style>"
      ],
      "text/plain": [
       "<IPython.core.display.HTML object>"
      ]
     },
     "metadata": {},
     "output_type": "display_data"
    }
   ],
   "source": [
    "import pandas as pd\n",
    "import numpy as np\n",
    "import matplotlib.pyplot as plt\n",
    "from IPython.core.display import display, HTML\n",
    "display(HTML(\"<style>.container { width:100% !important; }</style>\"))"
   ]
  },
  {
   "cell_type": "code",
   "execution_count": 2,
   "metadata": {},
   "outputs": [],
   "source": [
    "xls = pd.ExcelFile('cust_journey/fin_dist.xlsx')"
   ]
  },
  {
   "cell_type": "code",
   "execution_count": 3,
   "metadata": {
    "scrolled": true
   },
   "outputs": [
    {
     "data": {
      "text/html": [
       "<div>\n",
       "<style>\n",
       "    .dataframe thead tr:only-child th {\n",
       "        text-align: right;\n",
       "    }\n",
       "\n",
       "    .dataframe thead th {\n",
       "        text-align: left;\n",
       "    }\n",
       "\n",
       "    .dataframe tbody tr th {\n",
       "        vertical-align: top;\n",
       "    }\n",
       "</style>\n",
       "<table border=\"1\" class=\"dataframe\">\n",
       "  <thead>\n",
       "    <tr style=\"text-align: right;\">\n",
       "      <th></th>\n",
       "      <th>Building</th>\n",
       "      <th>Month</th>\n",
       "      <th>Year</th>\n",
       "      <th>Category</th>\n",
       "      <th>Tenant</th>\n",
       "      <th>Cat_Sales</th>\n",
       "      <th>Lease_Sales</th>\n",
       "      <th>Cat_Groc</th>\n",
       "      <th>Lease_Groc</th>\n",
       "      <th>Cat_Sales_PSF</th>\n",
       "      <th>Lease_Sales_PSF</th>\n",
       "      <th>Cat_GLA</th>\n",
       "      <th>Lease_GLA</th>\n",
       "    </tr>\n",
       "  </thead>\n",
       "  <tbody>\n",
       "    <tr>\n",
       "      <th>0</th>\n",
       "      <td>Yorkdale Shopping Centre</td>\n",
       "      <td>11</td>\n",
       "      <td>2017</td>\n",
       "      <td>Children &amp; Infants Apparel</td>\n",
       "      <td>Childrens Place, The</td>\n",
       "      <td>1504219.33</td>\n",
       "      <td>296994.16</td>\n",
       "      <td>31.99</td>\n",
       "      <td>53.12</td>\n",
       "      <td>84.9217</td>\n",
       "      <td>61.1854</td>\n",
       "      <td>17713</td>\n",
       "      <td>4854</td>\n",
       "    </tr>\n",
       "    <tr>\n",
       "      <th>1</th>\n",
       "      <td>Yorkdale Shopping Centre</td>\n",
       "      <td>11</td>\n",
       "      <td>2017</td>\n",
       "      <td>Children &amp; Infants Apparel</td>\n",
       "      <td>Gap Kids</td>\n",
       "      <td>1504219.33</td>\n",
       "      <td>653492.57</td>\n",
       "      <td>31.99</td>\n",
       "      <td>27.67</td>\n",
       "      <td>84.9217</td>\n",
       "      <td>97.7550</td>\n",
       "      <td>17713</td>\n",
       "      <td>6685</td>\n",
       "    </tr>\n",
       "    <tr>\n",
       "      <th>2</th>\n",
       "      <td>Yorkdale Shopping Centre</td>\n",
       "      <td>11</td>\n",
       "      <td>2017</td>\n",
       "      <td>Children &amp; Infants Apparel</td>\n",
       "      <td>Gymboree</td>\n",
       "      <td>1504219.33</td>\n",
       "      <td>186516.43</td>\n",
       "      <td>31.99</td>\n",
       "      <td>29.38</td>\n",
       "      <td>84.9217</td>\n",
       "      <td>115.9207</td>\n",
       "      <td>17713</td>\n",
       "      <td>1609</td>\n",
       "    </tr>\n",
       "    <tr>\n",
       "      <th>3</th>\n",
       "      <td>Yorkdale Shopping Centre</td>\n",
       "      <td>11</td>\n",
       "      <td>2017</td>\n",
       "      <td>Children &amp; Infants Apparel</td>\n",
       "      <td>Kids Foot Locker</td>\n",
       "      <td>1504219.33</td>\n",
       "      <td>367216.17</td>\n",
       "      <td>31.99</td>\n",
       "      <td>26.15</td>\n",
       "      <td>84.9217</td>\n",
       "      <td>80.4416</td>\n",
       "      <td>17713</td>\n",
       "      <td>4565</td>\n",
       "    </tr>\n",
       "    <tr>\n",
       "      <th>4</th>\n",
       "      <td>Yorkdale Shopping Centre</td>\n",
       "      <td>11</td>\n",
       "      <td>2017</td>\n",
       "      <td>Electronics</td>\n",
       "      <td>Apple</td>\n",
       "      <td>16325073.58</td>\n",
       "      <td>11782680.00</td>\n",
       "      <td>7.82</td>\n",
       "      <td>2.76</td>\n",
       "      <td>478.7832</td>\n",
       "      <td>1169.0326</td>\n",
       "      <td>34097</td>\n",
       "      <td>10079</td>\n",
       "    </tr>\n",
       "  </tbody>\n",
       "</table>\n",
       "</div>"
      ],
      "text/plain": [
       "                         Building  Month  Year  \\\n",
       "0  Yorkdale Shopping Centre           11  2017   \n",
       "1  Yorkdale Shopping Centre           11  2017   \n",
       "2  Yorkdale Shopping Centre           11  2017   \n",
       "3  Yorkdale Shopping Centre           11  2017   \n",
       "4  Yorkdale Shopping Centre           11  2017   \n",
       "\n",
       "                         Category                          Tenant  \\\n",
       "0  Children & Infants Apparel      Childrens Place, The             \n",
       "1  Children & Infants Apparel      Gap Kids                         \n",
       "2  Children & Infants Apparel      Gymboree                         \n",
       "3  Children & Infants Apparel      Kids Foot Locker                 \n",
       "4  Electronics                     Apple                            \n",
       "\n",
       "     Cat_Sales  Lease_Sales  Cat_Groc  Lease_Groc  Cat_Sales_PSF  \\\n",
       "0   1504219.33    296994.16     31.99       53.12        84.9217   \n",
       "1   1504219.33    653492.57     31.99       27.67        84.9217   \n",
       "2   1504219.33    186516.43     31.99       29.38        84.9217   \n",
       "3   1504219.33    367216.17     31.99       26.15        84.9217   \n",
       "4  16325073.58  11782680.00      7.82        2.76       478.7832   \n",
       "\n",
       "   Lease_Sales_PSF  Cat_GLA  Lease_GLA  \n",
       "0          61.1854    17713       4854  \n",
       "1          97.7550    17713       6685  \n",
       "2         115.9207    17713       1609  \n",
       "3          80.4416    17713       4565  \n",
       "4        1169.0326    34097      10079  "
      ]
     },
     "execution_count": 3,
     "metadata": {},
     "output_type": "execute_result"
    }
   ],
   "source": [
    "sheet1 = xls.parse(0)\n",
    "sheet1.head()"
   ]
  },
  {
   "cell_type": "code",
   "execution_count": 4,
   "metadata": {},
   "outputs": [
    {
     "data": {
      "text/html": [
       "<div>\n",
       "<style>\n",
       "    .dataframe thead tr:only-child th {\n",
       "        text-align: right;\n",
       "    }\n",
       "\n",
       "    .dataframe thead th {\n",
       "        text-align: left;\n",
       "    }\n",
       "\n",
       "    .dataframe tbody tr th {\n",
       "        vertical-align: top;\n",
       "    }\n",
       "</style>\n",
       "<table border=\"1\" class=\"dataframe\">\n",
       "  <thead>\n",
       "    <tr style=\"text-align: right;\">\n",
       "      <th></th>\n",
       "      <th>Month</th>\n",
       "      <th>Year</th>\n",
       "      <th>Cat_Sales</th>\n",
       "      <th>Lease_Sales</th>\n",
       "      <th>Cat_Groc</th>\n",
       "      <th>Lease_Groc</th>\n",
       "      <th>Cat_Sales_PSF</th>\n",
       "      <th>Lease_Sales_PSF</th>\n",
       "      <th>Cat_GLA</th>\n",
       "      <th>Lease_GLA</th>\n",
       "    </tr>\n",
       "  </thead>\n",
       "  <tbody>\n",
       "    <tr>\n",
       "      <th>count</th>\n",
       "      <td>481.000000</td>\n",
       "      <td>481.0</td>\n",
       "      <td>4.810000e+02</td>\n",
       "      <td>4.810000e+02</td>\n",
       "      <td>481.000000</td>\n",
       "      <td>4.810000e+02</td>\n",
       "      <td>481.000000</td>\n",
       "      <td>481.000000</td>\n",
       "      <td>481.000000</td>\n",
       "      <td>481.000000</td>\n",
       "    </tr>\n",
       "    <tr>\n",
       "      <th>mean</th>\n",
       "      <td>11.505198</td>\n",
       "      <td>2017.0</td>\n",
       "      <td>1.735163e+07</td>\n",
       "      <td>8.548292e+05</td>\n",
       "      <td>18.777360</td>\n",
       "      <td>9.996678e+05</td>\n",
       "      <td>227.322963</td>\n",
       "      <td>230.796360</td>\n",
       "      <td>116473.879418</td>\n",
       "      <td>5788.224532</td>\n",
       "    </tr>\n",
       "    <tr>\n",
       "      <th>std</th>\n",
       "      <td>0.500494</td>\n",
       "      <td>0.0</td>\n",
       "      <td>1.979281e+07</td>\n",
       "      <td>2.301586e+06</td>\n",
       "      <td>7.202537</td>\n",
       "      <td>2.192383e+07</td>\n",
       "      <td>186.106869</td>\n",
       "      <td>368.962696</td>\n",
       "      <td>206579.272876</td>\n",
       "      <td>15737.456046</td>\n",
       "    </tr>\n",
       "    <tr>\n",
       "      <th>min</th>\n",
       "      <td>11.000000</td>\n",
       "      <td>2017.0</td>\n",
       "      <td>7.385033e+04</td>\n",
       "      <td>1.000000e-02</td>\n",
       "      <td>3.570000</td>\n",
       "      <td>0.000000e+00</td>\n",
       "      <td>60.981500</td>\n",
       "      <td>0.000000</td>\n",
       "      <td>1081.000000</td>\n",
       "      <td>0.000000</td>\n",
       "    </tr>\n",
       "    <tr>\n",
       "      <th>25%</th>\n",
       "      <td>11.000000</td>\n",
       "      <td>2017.0</td>\n",
       "      <td>2.381769e+06</td>\n",
       "      <td>1.700000e+05</td>\n",
       "      <td>10.150000</td>\n",
       "      <td>1.519000e+01</td>\n",
       "      <td>105.891200</td>\n",
       "      <td>82.472700</td>\n",
       "      <td>16443.000000</td>\n",
       "      <td>1153.000000</td>\n",
       "    </tr>\n",
       "    <tr>\n",
       "      <th>50%</th>\n",
       "      <td>12.000000</td>\n",
       "      <td>2017.0</td>\n",
       "      <td>9.586273e+06</td>\n",
       "      <td>3.107660e+05</td>\n",
       "      <td>19.050000</td>\n",
       "      <td>2.305000e+01</td>\n",
       "      <td>167.668500</td>\n",
       "      <td>137.104700</td>\n",
       "      <td>36619.000000</td>\n",
       "      <td>2250.000000</td>\n",
       "    </tr>\n",
       "    <tr>\n",
       "      <th>75%</th>\n",
       "      <td>12.000000</td>\n",
       "      <td>2017.0</td>\n",
       "      <td>2.396680e+07</td>\n",
       "      <td>7.301230e+05</td>\n",
       "      <td>25.700000</td>\n",
       "      <td>3.372000e+01</td>\n",
       "      <td>267.989200</td>\n",
       "      <td>257.717600</td>\n",
       "      <td>94231.000000</td>\n",
       "      <td>4349.000000</td>\n",
       "    </tr>\n",
       "    <tr>\n",
       "      <th>max</th>\n",
       "      <td>12.000000</td>\n",
       "      <td>2017.0</td>\n",
       "      <td>7.699292e+07</td>\n",
       "      <td>3.260187e+07</td>\n",
       "      <td>40.230000</td>\n",
       "      <td>4.808271e+08</td>\n",
       "      <td>1511.455700</td>\n",
       "      <td>5771.543000</td>\n",
       "      <td>801525.000000</td>\n",
       "      <td>189111.000000</td>\n",
       "    </tr>\n",
       "  </tbody>\n",
       "</table>\n",
       "</div>"
      ],
      "text/plain": [
       "            Month    Year     Cat_Sales   Lease_Sales    Cat_Groc  \\\n",
       "count  481.000000   481.0  4.810000e+02  4.810000e+02  481.000000   \n",
       "mean    11.505198  2017.0  1.735163e+07  8.548292e+05   18.777360   \n",
       "std      0.500494     0.0  1.979281e+07  2.301586e+06    7.202537   \n",
       "min     11.000000  2017.0  7.385033e+04  1.000000e-02    3.570000   \n",
       "25%     11.000000  2017.0  2.381769e+06  1.700000e+05   10.150000   \n",
       "50%     12.000000  2017.0  9.586273e+06  3.107660e+05   19.050000   \n",
       "75%     12.000000  2017.0  2.396680e+07  7.301230e+05   25.700000   \n",
       "max     12.000000  2017.0  7.699292e+07  3.260187e+07   40.230000   \n",
       "\n",
       "         Lease_Groc  Cat_Sales_PSF  Lease_Sales_PSF        Cat_GLA  \\\n",
       "count  4.810000e+02     481.000000       481.000000     481.000000   \n",
       "mean   9.996678e+05     227.322963       230.796360  116473.879418   \n",
       "std    2.192383e+07     186.106869       368.962696  206579.272876   \n",
       "min    0.000000e+00      60.981500         0.000000    1081.000000   \n",
       "25%    1.519000e+01     105.891200        82.472700   16443.000000   \n",
       "50%    2.305000e+01     167.668500       137.104700   36619.000000   \n",
       "75%    3.372000e+01     267.989200       257.717600   94231.000000   \n",
       "max    4.808271e+08    1511.455700      5771.543000  801525.000000   \n",
       "\n",
       "           Lease_GLA  \n",
       "count     481.000000  \n",
       "mean     5788.224532  \n",
       "std     15737.456046  \n",
       "min         0.000000  \n",
       "25%      1153.000000  \n",
       "50%      2250.000000  \n",
       "75%      4349.000000  \n",
       "max    189111.000000  "
      ]
     },
     "execution_count": 4,
     "metadata": {},
     "output_type": "execute_result"
    }
   ],
   "source": [
    "sheet1.describe()"
   ]
  },
  {
   "cell_type": "code",
   "execution_count": 5,
   "metadata": {},
   "outputs": [
    {
     "data": {
      "text/html": [
       "<div>\n",
       "<style>\n",
       "    .dataframe thead tr:only-child th {\n",
       "        text-align: right;\n",
       "    }\n",
       "\n",
       "    .dataframe thead th {\n",
       "        text-align: left;\n",
       "    }\n",
       "\n",
       "    .dataframe tbody tr th {\n",
       "        vertical-align: top;\n",
       "    }\n",
       "</style>\n",
       "<table border=\"1\" class=\"dataframe\">\n",
       "  <thead>\n",
       "    <tr style=\"text-align: right;\">\n",
       "      <th></th>\n",
       "      <th>Month</th>\n",
       "      <th>Category</th>\n",
       "      <th>Cat_Sales_PSF</th>\n",
       "      <th>Tenant</th>\n",
       "    </tr>\n",
       "  </thead>\n",
       "  <tbody>\n",
       "    <tr>\n",
       "      <th>0</th>\n",
       "      <td>11</td>\n",
       "      <td>Children &amp; Infants Apparel</td>\n",
       "      <td>84.9217</td>\n",
       "      <td>Childrens Place, The</td>\n",
       "    </tr>\n",
       "    <tr>\n",
       "      <th>1</th>\n",
       "      <td>11</td>\n",
       "      <td>Children &amp; Infants Apparel</td>\n",
       "      <td>84.9217</td>\n",
       "      <td>Gap Kids</td>\n",
       "    </tr>\n",
       "    <tr>\n",
       "      <th>2</th>\n",
       "      <td>11</td>\n",
       "      <td>Children &amp; Infants Apparel</td>\n",
       "      <td>84.9217</td>\n",
       "      <td>Gymboree</td>\n",
       "    </tr>\n",
       "    <tr>\n",
       "      <th>3</th>\n",
       "      <td>11</td>\n",
       "      <td>Children &amp; Infants Apparel</td>\n",
       "      <td>84.9217</td>\n",
       "      <td>Kids Foot Locker</td>\n",
       "    </tr>\n",
       "    <tr>\n",
       "      <th>4</th>\n",
       "      <td>11</td>\n",
       "      <td>Electronics</td>\n",
       "      <td>478.7832</td>\n",
       "      <td>Apple</td>\n",
       "    </tr>\n",
       "  </tbody>\n",
       "</table>\n",
       "</div>"
      ],
      "text/plain": [
       "   Month                        Category  Cat_Sales_PSF  \\\n",
       "0     11  Children & Infants Apparel            84.9217   \n",
       "1     11  Children & Infants Apparel            84.9217   \n",
       "2     11  Children & Infants Apparel            84.9217   \n",
       "3     11  Children & Infants Apparel            84.9217   \n",
       "4     11  Electronics                          478.7832   \n",
       "\n",
       "                           Tenant  \n",
       "0  Childrens Place, The            \n",
       "1  Gap Kids                        \n",
       "2  Gymboree                        \n",
       "3  Kids Foot Locker                \n",
       "4  Apple                           "
      ]
     },
     "execution_count": 5,
     "metadata": {},
     "output_type": "execute_result"
    }
   ],
   "source": [
    "subset=sheet1[['Month', 'Category','Cat_Sales_PSF','Tenant']]\n",
    "subset.head()"
   ]
  },
  {
   "cell_type": "code",
   "execution_count": 6,
   "metadata": {},
   "outputs": [
    {
     "data": {
      "image/png": "[encoded data removed]",
      "text/plain": [
       "<matplotlib.figure.Figure at 0x9946278>"
      ]
     },
     "metadata": {},
     "output_type": "display_data"
    }
   ],
   "source": [
    "subset.plot(x='Month',y='Cat_Sales_PSF',kind='bar', figsize=(20,8))\n",
    "plt.show()"
   ]
  },
  {
   "cell_type": "code",
   "execution_count": 7,
   "metadata": {},
   "outputs": [
    {
     "data": {
      "text/html": [
       "<div>\n",
       "<style>\n",
       "    .dataframe thead tr:only-child th {\n",
       "        text-align: right;\n",
       "    }\n",
       "\n",
       "    .dataframe thead th {\n",
       "        text-align: left;\n",
       "    }\n",
       "\n",
       "    .dataframe tbody tr th {\n",
       "        vertical-align: top;\n",
       "    }\n",
       "</style>\n",
       "<table border=\"1\" class=\"dataframe\">\n",
       "  <thead>\n",
       "    <tr style=\"text-align: right;\">\n",
       "      <th></th>\n",
       "      <th></th>\n",
       "      <th></th>\n",
       "      <th>Month</th>\n",
       "    </tr>\n",
       "    <tr>\n",
       "      <th>Tenant</th>\n",
       "      <th>Cat_Sales_PSF</th>\n",
       "      <th>Category</th>\n",
       "      <th></th>\n",
       "    </tr>\n",
       "  </thead>\n",
       "  <tbody>\n",
       "    <tr>\n",
       "      <th rowspan=\"2\" valign=\"top\">A &amp; W</th>\n",
       "      <th>304.9474</th>\n",
       "      <th>Food Court</th>\n",
       "      <td>11</td>\n",
       "    </tr>\n",
       "    <tr>\n",
       "      <th>382.1726</th>\n",
       "      <th>Food Court</th>\n",
       "      <td>12</td>\n",
       "    </tr>\n",
       "    <tr>\n",
       "      <th rowspan=\"2\" valign=\"top\">Aldo</th>\n",
       "      <th>138.1363</th>\n",
       "      <th>Footwear</th>\n",
       "      <td>11</td>\n",
       "    </tr>\n",
       "    <tr>\n",
       "      <th>161.0674</th>\n",
       "      <th>Footwear</th>\n",
       "      <td>12</td>\n",
       "    </tr>\n",
       "    <tr>\n",
       "      <th rowspan=\"2\" valign=\"top\">Aldo Accessories</th>\n",
       "      <th>123.5171</th>\n",
       "      <th>Fashion Accessories</th>\n",
       "      <td>11</td>\n",
       "    </tr>\n",
       "    <tr>\n",
       "      <th>225.7114</th>\n",
       "      <th>Fashion Accessories</th>\n",
       "      <td>12</td>\n",
       "    </tr>\n",
       "    <tr>\n",
       "      <th rowspan=\"2\" valign=\"top\">Alex and Ani</th>\n",
       "      <th>123.5171</th>\n",
       "      <th>Fashion Accessories</th>\n",
       "      <td>11</td>\n",
       "    </tr>\n",
       "    <tr>\n",
       "      <th>225.7114</th>\n",
       "      <th>Fashion Accessories</th>\n",
       "      <td>12</td>\n",
       "    </tr>\n",
       "    <tr>\n",
       "      <th rowspan=\"2\" valign=\"top\">AllSaints</th>\n",
       "      <th>197.4595</th>\n",
       "      <th>Family Apparel</th>\n",
       "      <td>11</td>\n",
       "    </tr>\n",
       "    <tr>\n",
       "      <th>267.9892</th>\n",
       "      <th>Family Apparel</th>\n",
       "      <td>12</td>\n",
       "    </tr>\n",
       "  </tbody>\n",
       "</table>\n",
       "</div>"
      ],
      "text/plain": [
       "                                                                             Month\n",
       "Tenant                         Cat_Sales_PSF Category                             \n",
       "A & W                          304.9474      Food Court                         11\n",
       "                               382.1726      Food Court                         12\n",
       "Aldo                           138.1363      Footwear                           11\n",
       "                               161.0674      Footwear                           12\n",
       "Aldo Accessories               123.5171      Fashion Accessories                11\n",
       "                               225.7114      Fashion Accessories                12\n",
       "Alex and Ani                   123.5171      Fashion Accessories                11\n",
       "                               225.7114      Fashion Accessories                12\n",
       "AllSaints                      197.4595      Family Apparel                     11\n",
       "                               267.9892      Family Apparel                     12"
      ]
     },
     "execution_count": 7,
     "metadata": {},
     "output_type": "execute_result"
    }
   ],
   "source": [
    "sale_month=subset.pivot_table(index=['Tenant','Cat_Sales_PSF','Category'])\n",
    "sale_month.head(10)"
   ]
  },
  {
   "cell_type": "code",
   "execution_count": 8,
   "metadata": {},
   "outputs": [
    {
     "data": {
      "text/html": [
       "<div>\n",
       "<style>\n",
       "    .dataframe thead tr:only-child th {\n",
       "        text-align: right;\n",
       "    }\n",
       "\n",
       "    .dataframe thead th {\n",
       "        text-align: left;\n",
       "    }\n",
       "\n",
       "    .dataframe tbody tr th {\n",
       "        vertical-align: top;\n",
       "    }\n",
       "</style>\n",
       "<table border=\"1\" class=\"dataframe\">\n",
       "  <thead>\n",
       "    <tr style=\"text-align: right;\">\n",
       "      <th></th>\n",
       "      <th>Month</th>\n",
       "    </tr>\n",
       "  </thead>\n",
       "  <tbody>\n",
       "    <tr>\n",
       "      <th>count</th>\n",
       "      <td>481.000000</td>\n",
       "    </tr>\n",
       "    <tr>\n",
       "      <th>mean</th>\n",
       "      <td>11.505198</td>\n",
       "    </tr>\n",
       "    <tr>\n",
       "      <th>std</th>\n",
       "      <td>0.500494</td>\n",
       "    </tr>\n",
       "    <tr>\n",
       "      <th>min</th>\n",
       "      <td>11.000000</td>\n",
       "    </tr>\n",
       "    <tr>\n",
       "      <th>25%</th>\n",
       "      <td>11.000000</td>\n",
       "    </tr>\n",
       "    <tr>\n",
       "      <th>50%</th>\n",
       "      <td>12.000000</td>\n",
       "    </tr>\n",
       "    <tr>\n",
       "      <th>75%</th>\n",
       "      <td>12.000000</td>\n",
       "    </tr>\n",
       "    <tr>\n",
       "      <th>max</th>\n",
       "      <td>12.000000</td>\n",
       "    </tr>\n",
       "  </tbody>\n",
       "</table>\n",
       "</div>"
      ],
      "text/plain": [
       "            Month\n",
       "count  481.000000\n",
       "mean    11.505198\n",
       "std      0.500494\n",
       "min     11.000000\n",
       "25%     11.000000\n",
       "50%     12.000000\n",
       "75%     12.000000\n",
       "max     12.000000"
      ]
     },
     "execution_count": 8,
     "metadata": {},
     "output_type": "execute_result"
    }
   ],
   "source": [
    "sale_month.describe()"
   ]
  },
  {
   "cell_type": "code",
   "execution_count": 9,
   "metadata": {},
   "outputs": [
    {
     "data": {
      "image/png": "[encoded data removed]",
      "text/plain": [
       "<matplotlib.figure.Figure at 0x998d320>"
      ]
     },
     "metadata": {},
     "output_type": "display_data"
    }
   ],
   "source": [
    "sale_month.head(50).plot(kind='bar', figsize=(20,8))\n",
    "plt.show()"
   ]
  },
  {
   "cell_type": "code",
   "execution_count": 10,
   "metadata": {},
   "outputs": [
    {
     "ename": "KeyError",
     "evalue": "'Cat_Sales_PSF'",
     "output_type": "error",
     "traceback": [
      "\u001b[1;31m---------------------------------------------------------------------------\u001b[0m",
      "\u001b[1;31mKeyError\u001b[0m                                  Traceback (most recent call last)",
      "\u001b[1;32m~\\Anaconda\\lib\\site-packages\\pandas\\core\\indexes\\base.py\u001b[0m in \u001b[0;36mget_loc\u001b[1;34m(self, key, method, tolerance)\u001b[0m\n\u001b[0;32m   2441\u001b[0m             \u001b[1;32mtry\u001b[0m\u001b[1;33m:\u001b[0m\u001b[1;33m\u001b[0m\u001b[0m\n\u001b[1;32m-> 2442\u001b[1;33m                 \u001b[1;32mreturn\u001b[0m \u001b[0mself\u001b[0m\u001b[1;33m.\u001b[0m\u001b[0m_engine\u001b[0m\u001b[1;33m.\u001b[0m\u001b[0mget_loc\u001b[0m\u001b[1;33m(\u001b[0m\u001b[0mkey\u001b[0m\u001b[1;33m)\u001b[0m\u001b[1;33m\u001b[0m\u001b[0m\n\u001b[0m\u001b[0;32m   2443\u001b[0m             \u001b[1;32mexcept\u001b[0m \u001b[0mKeyError\u001b[0m\u001b[1;33m:\u001b[0m\u001b[1;33m\u001b[0m\u001b[0m\n",
      "\u001b[1;32mpandas\\_libs\\index.pyx\u001b[0m in \u001b[0;36mpandas._libs.index.IndexEngine.get_loc\u001b[1;34m()\u001b[0m\n",
      "\u001b[1;32mpandas\\_libs\\index.pyx\u001b[0m in \u001b[0;36mpandas._libs.index.IndexEngine.get_loc\u001b[1;34m()\u001b[0m\n",
      "\u001b[1;32mpandas\\_libs\\hashtable_class_helper.pxi\u001b[0m in \u001b[0;36mpandas._libs.hashtable.PyObjectHashTable.get_item\u001b[1;34m()\u001b[0m\n",
      "\u001b[1;32mpandas\\_libs\\hashtable_class_helper.pxi\u001b[0m in \u001b[0;36mpandas._libs.hashtable.PyObjectHashTable.get_item\u001b[1;34m()\u001b[0m\n",
      "\u001b[1;31mKeyError\u001b[0m: 'Cat_Sales_PSF'",
      "\nDuring handling of the above exception, another exception occurred:\n",
      "\u001b[1;31mKeyError\u001b[0m                                  Traceback (most recent call last)",
      "\u001b[1;32m<ipython-input-10-d452d332a5e2>\u001b[0m in \u001b[0;36m<module>\u001b[1;34m()\u001b[0m\n\u001b[1;32m----> 1\u001b[1;33m \u001b[0msale_month\u001b[0m\u001b[1;33m.\u001b[0m\u001b[0mplot\u001b[0m\u001b[1;33m(\u001b[0m\u001b[0mx\u001b[0m\u001b[1;33m=\u001b[0m\u001b[0msale_month\u001b[0m\u001b[1;33m[\u001b[0m\u001b[1;34m'Month'\u001b[0m\u001b[1;33m]\u001b[0m\u001b[1;33m,\u001b[0m \u001b[0my\u001b[0m\u001b[1;33m=\u001b[0m \u001b[0msale_month\u001b[0m\u001b[1;33m[\u001b[0m\u001b[1;34m'Cat_Sales_PSF'\u001b[0m\u001b[1;33m]\u001b[0m\u001b[1;33m,\u001b[0m \u001b[0mkind\u001b[0m\u001b[1;33m=\u001b[0m\u001b[1;34m'bar'\u001b[0m\u001b[1;33m)\u001b[0m\u001b[1;33m\u001b[0m\u001b[0m\n\u001b[0m\u001b[0;32m      2\u001b[0m \u001b[0mplt\u001b[0m\u001b[1;33m.\u001b[0m\u001b[0mshow\u001b[0m\u001b[1;33m(\u001b[0m\u001b[1;33m)\u001b[0m\u001b[1;33m\u001b[0m\u001b[0m\n",
      "\u001b[1;32m~\\Anaconda\\lib\\site-packages\\pandas\\core\\frame.py\u001b[0m in \u001b[0;36m__getitem__\u001b[1;34m(self, key)\u001b[0m\n\u001b[0;32m   1962\u001b[0m             \u001b[1;32mreturn\u001b[0m \u001b[0mself\u001b[0m\u001b[1;33m.\u001b[0m\u001b[0m_getitem_multilevel\u001b[0m\u001b[1;33m(\u001b[0m\u001b[0mkey\u001b[0m\u001b[1;33m)\u001b[0m\u001b[1;33m\u001b[0m\u001b[0m\n\u001b[0;32m   1963\u001b[0m         \u001b[1;32melse\u001b[0m\u001b[1;33m:\u001b[0m\u001b[1;33m\u001b[0m\u001b[0m\n\u001b[1;32m-> 1964\u001b[1;33m             \u001b[1;32mreturn\u001b[0m \u001b[0mself\u001b[0m\u001b[1;33m.\u001b[0m\u001b[0m_getitem_column\u001b[0m\u001b[1;33m(\u001b[0m\u001b[0mkey\u001b[0m\u001b[1;33m)\u001b[0m\u001b[1;33m\u001b[0m\u001b[0m\n\u001b[0m\u001b[0;32m   1965\u001b[0m \u001b[1;33m\u001b[0m\u001b[0m\n\u001b[0;32m   1966\u001b[0m     \u001b[1;32mdef\u001b[0m \u001b[0m_getitem_column\u001b[0m\u001b[1;33m(\u001b[0m\u001b[0mself\u001b[0m\u001b[1;33m,\u001b[0m \u001b[0mkey\u001b[0m\u001b[1;33m)\u001b[0m\u001b[1;33m:\u001b[0m\u001b[1;33m\u001b[0m\u001b[0m\n",
      "\u001b[1;32m~\\Anaconda\\lib\\site-packages\\pandas\\core\\frame.py\u001b[0m in \u001b[0;36m_getitem_column\u001b[1;34m(self, key)\u001b[0m\n\u001b[0;32m   1969\u001b[0m         \u001b[1;31m# get column\u001b[0m\u001b[1;33m\u001b[0m\u001b[1;33m\u001b[0m\u001b[0m\n\u001b[0;32m   1970\u001b[0m         \u001b[1;32mif\u001b[0m \u001b[0mself\u001b[0m\u001b[1;33m.\u001b[0m\u001b[0mcolumns\u001b[0m\u001b[1;33m.\u001b[0m\u001b[0mis_unique\u001b[0m\u001b[1;33m:\u001b[0m\u001b[1;33m\u001b[0m\u001b[0m\n\u001b[1;32m-> 1971\u001b[1;33m             \u001b[1;32mreturn\u001b[0m \u001b[0mself\u001b[0m\u001b[1;33m.\u001b[0m\u001b[0m_get_item_cache\u001b[0m\u001b[1;33m(\u001b[0m\u001b[0mkey\u001b[0m\u001b[1;33m)\u001b[0m\u001b[1;33m\u001b[0m\u001b[0m\n\u001b[0m\u001b[0;32m   1972\u001b[0m \u001b[1;33m\u001b[0m\u001b[0m\n\u001b[0;32m   1973\u001b[0m         \u001b[1;31m# duplicate columns & possible reduce dimensionality\u001b[0m\u001b[1;33m\u001b[0m\u001b[1;33m\u001b[0m\u001b[0m\n",
      "\u001b[1;32m~\\Anaconda\\lib\\site-packages\\pandas\\core\\generic.py\u001b[0m in \u001b[0;36m_get_item_cache\u001b[1;34m(self, item)\u001b[0m\n\u001b[0;32m   1643\u001b[0m         \u001b[0mres\u001b[0m \u001b[1;33m=\u001b[0m \u001b[0mcache\u001b[0m\u001b[1;33m.\u001b[0m\u001b[0mget\u001b[0m\u001b[1;33m(\u001b[0m\u001b[0mitem\u001b[0m\u001b[1;33m)\u001b[0m\u001b[1;33m\u001b[0m\u001b[0m\n\u001b[0;32m   1644\u001b[0m         \u001b[1;32mif\u001b[0m \u001b[0mres\u001b[0m \u001b[1;32mis\u001b[0m \u001b[1;32mNone\u001b[0m\u001b[1;33m:\u001b[0m\u001b[1;33m\u001b[0m\u001b[0m\n\u001b[1;32m-> 1645\u001b[1;33m             \u001b[0mvalues\u001b[0m \u001b[1;33m=\u001b[0m \u001b[0mself\u001b[0m\u001b[1;33m.\u001b[0m\u001b[0m_data\u001b[0m\u001b[1;33m.\u001b[0m\u001b[0mget\u001b[0m\u001b[1;33m(\u001b[0m\u001b[0mitem\u001b[0m\u001b[1;33m)\u001b[0m\u001b[1;33m\u001b[0m\u001b[0m\n\u001b[0m\u001b[0;32m   1646\u001b[0m             \u001b[0mres\u001b[0m \u001b[1;33m=\u001b[0m \u001b[0mself\u001b[0m\u001b[1;33m.\u001b[0m\u001b[0m_box_item_values\u001b[0m\u001b[1;33m(\u001b[0m\u001b[0mitem\u001b[0m\u001b[1;33m,\u001b[0m \u001b[0mvalues\u001b[0m\u001b[1;33m)\u001b[0m\u001b[1;33m\u001b[0m\u001b[0m\n\u001b[0;32m   1647\u001b[0m             \u001b[0mcache\u001b[0m\u001b[1;33m[\u001b[0m\u001b[0mitem\u001b[0m\u001b[1;33m]\u001b[0m \u001b[1;33m=\u001b[0m \u001b[0mres\u001b[0m\u001b[1;33m\u001b[0m\u001b[0m\n",
      "\u001b[1;32m~\\Anaconda\\lib\\site-packages\\pandas\\core\\internals.py\u001b[0m in \u001b[0;36mget\u001b[1;34m(self, item, fastpath)\u001b[0m\n\u001b[0;32m   3588\u001b[0m \u001b[1;33m\u001b[0m\u001b[0m\n\u001b[0;32m   3589\u001b[0m             \u001b[1;32mif\u001b[0m \u001b[1;32mnot\u001b[0m \u001b[0misnull\u001b[0m\u001b[1;33m(\u001b[0m\u001b[0mitem\u001b[0m\u001b[1;33m)\u001b[0m\u001b[1;33m:\u001b[0m\u001b[1;33m\u001b[0m\u001b[0m\n\u001b[1;32m-> 3590\u001b[1;33m                 \u001b[0mloc\u001b[0m \u001b[1;33m=\u001b[0m \u001b[0mself\u001b[0m\u001b[1;33m.\u001b[0m\u001b[0mitems\u001b[0m\u001b[1;33m.\u001b[0m\u001b[0mget_loc\u001b[0m\u001b[1;33m(\u001b[0m\u001b[0mitem\u001b[0m\u001b[1;33m)\u001b[0m\u001b[1;33m\u001b[0m\u001b[0m\n\u001b[0m\u001b[0;32m   3591\u001b[0m             \u001b[1;32melse\u001b[0m\u001b[1;33m:\u001b[0m\u001b[1;33m\u001b[0m\u001b[0m\n\u001b[0;32m   3592\u001b[0m                 \u001b[0mindexer\u001b[0m \u001b[1;33m=\u001b[0m \u001b[0mnp\u001b[0m\u001b[1;33m.\u001b[0m\u001b[0marange\u001b[0m\u001b[1;33m(\u001b[0m\u001b[0mlen\u001b[0m\u001b[1;33m(\u001b[0m\u001b[0mself\u001b[0m\u001b[1;33m.\u001b[0m\u001b[0mitems\u001b[0m\u001b[1;33m)\u001b[0m\u001b[1;33m)\u001b[0m\u001b[1;33m[\u001b[0m\u001b[0misnull\u001b[0m\u001b[1;33m(\u001b[0m\u001b[0mself\u001b[0m\u001b[1;33m.\u001b[0m\u001b[0mitems\u001b[0m\u001b[1;33m)\u001b[0m\u001b[1;33m]\u001b[0m\u001b[1;33m\u001b[0m\u001b[0m\n",
      "\u001b[1;32m~\\Anaconda\\lib\\site-packages\\pandas\\core\\indexes\\base.py\u001b[0m in \u001b[0;36mget_loc\u001b[1;34m(self, key, method, tolerance)\u001b[0m\n\u001b[0;32m   2442\u001b[0m                 \u001b[1;32mreturn\u001b[0m \u001b[0mself\u001b[0m\u001b[1;33m.\u001b[0m\u001b[0m_engine\u001b[0m\u001b[1;33m.\u001b[0m\u001b[0mget_loc\u001b[0m\u001b[1;33m(\u001b[0m\u001b[0mkey\u001b[0m\u001b[1;33m)\u001b[0m\u001b[1;33m\u001b[0m\u001b[0m\n\u001b[0;32m   2443\u001b[0m             \u001b[1;32mexcept\u001b[0m \u001b[0mKeyError\u001b[0m\u001b[1;33m:\u001b[0m\u001b[1;33m\u001b[0m\u001b[0m\n\u001b[1;32m-> 2444\u001b[1;33m                 \u001b[1;32mreturn\u001b[0m \u001b[0mself\u001b[0m\u001b[1;33m.\u001b[0m\u001b[0m_engine\u001b[0m\u001b[1;33m.\u001b[0m\u001b[0mget_loc\u001b[0m\u001b[1;33m(\u001b[0m\u001b[0mself\u001b[0m\u001b[1;33m.\u001b[0m\u001b[0m_maybe_cast_indexer\u001b[0m\u001b[1;33m(\u001b[0m\u001b[0mkey\u001b[0m\u001b[1;33m)\u001b[0m\u001b[1;33m)\u001b[0m\u001b[1;33m\u001b[0m\u001b[0m\n\u001b[0m\u001b[0;32m   2445\u001b[0m \u001b[1;33m\u001b[0m\u001b[0m\n\u001b[0;32m   2446\u001b[0m         \u001b[0mindexer\u001b[0m \u001b[1;33m=\u001b[0m \u001b[0mself\u001b[0m\u001b[1;33m.\u001b[0m\u001b[0mget_indexer\u001b[0m\u001b[1;33m(\u001b[0m\u001b[1;33m[\u001b[0m\u001b[0mkey\u001b[0m\u001b[1;33m]\u001b[0m\u001b[1;33m,\u001b[0m \u001b[0mmethod\u001b[0m\u001b[1;33m=\u001b[0m\u001b[0mmethod\u001b[0m\u001b[1;33m,\u001b[0m \u001b[0mtolerance\u001b[0m\u001b[1;33m=\u001b[0m\u001b[0mtolerance\u001b[0m\u001b[1;33m)\u001b[0m\u001b[1;33m\u001b[0m\u001b[0m\n",
      "\u001b[1;32mpandas\\_libs\\index.pyx\u001b[0m in \u001b[0;36mpandas._libs.index.IndexEngine.get_loc\u001b[1;34m()\u001b[0m\n",
      "\u001b[1;32mpandas\\_libs\\index.pyx\u001b[0m in \u001b[0;36mpandas._libs.index.IndexEngine.get_loc\u001b[1;34m()\u001b[0m\n",
      "\u001b[1;32mpandas\\_libs\\hashtable_class_helper.pxi\u001b[0m in \u001b[0;36mpandas._libs.hashtable.PyObjectHashTable.get_item\u001b[1;34m()\u001b[0m\n",
      "\u001b[1;32mpandas\\_libs\\hashtable_class_helper.pxi\u001b[0m in \u001b[0;36mpandas._libs.hashtable.PyObjectHashTable.get_item\u001b[1;34m()\u001b[0m\n",
      "\u001b[1;31mKeyError\u001b[0m: 'Cat_Sales_PSF'"
     ]
    }
   ],
   "source": [
    "sale_month.plot(x=sale_month['Month'], y= sale_month['Cat_Sales_PSF'], kind='bar')\n",
    "plt.show()"
   ]
  },
  {
   "cell_type": "code",
   "execution_count": null,
   "metadata": {
    "collapsed": true
   },
   "outputs": [],
   "source": []
  },
  {
   "cell_type": "code",
   "execution_count": null,
   "metadata": {
    "collapsed": true
   },
   "outputs": [],
   "source": []
  },
  {
   "cell_type": "code",
   "execution_count": null,
   "metadata": {},
   "outputs": [],
   "source": [
    "sheet1.set_index('Category', inplace=True)\n",
    "sheet1.head()"
   ]
  },
  {
   "cell_type": "code",
   "execution_count": null,
   "metadata": {},
   "outputs": [],
   "source": [
    "sale_psf=sheet1['Cat_Sales_PSF']\n",
    "# store=sheet1['Tenant']\n",
    "# category=sheet1['Category']\n",
    "sale_psf.head()\n",
    "# store.head()"
   ]
  },
  {
   "cell_type": "code",
   "execution_count": null,
   "metadata": {
    "collapsed": true
   },
   "outputs": [],
   "source": [
    "sort_by_psf = sheet1.sort_values(['Cat_Sales_PSF'], ascending=False)\n",
    "sort_by_psf.head(20)"
   ]
  },
  {
   "cell_type": "code",
   "execution_count": null,
   "metadata": {
    "collapsed": true
   },
   "outputs": [],
   "source": [
    "sort_by_psf.drop_duplicates(inplace=True)\n",
    "sort_by_psf"
   ]
  },
  {
   "cell_type": "code",
   "execution_count": null,
   "metadata": {},
   "outputs": [],
   "source": [
    "sort_by_psf.head(30).plot(kind='barh')\n",
    "plt.show()"
   ]
  },
  {
   "cell_type": "code",
   "execution_count": null,
   "metadata": {
    "collapsed": true
   },
   "outputs": [],
   "source": []
  },
  {
   "cell_type": "code",
   "execution_count": null,
   "metadata": {
    "collapsed": true
   },
   "outputs": [],
   "source": []
  },
  {
   "cell_type": "code",
   "execution_count": null,
   "metadata": {
    "collapsed": true
   },
   "outputs": [],
   "source": []
  },
  {
   "cell_type": "code",
   "execution_count": null,
   "metadata": {
    "collapsed": true
   },
   "outputs": [],
   "source": []
  },
  {
   "cell_type": "code",
   "execution_count": null,
   "metadata": {
    "collapsed": true
   },
   "outputs": [],
   "source": []
  },
  {
   "cell_type": "code",
   "execution_count": null,
   "metadata": {
    "collapsed": true
   },
   "outputs": [],
   "source": []
  },
  {
   "cell_type": "code",
   "execution_count": null,
   "metadata": {
    "collapsed": true
   },
   "outputs": [],
   "source": []
  },
  {
   "cell_type": "code",
   "execution_count": null,
   "metadata": {
    "collapsed": true
   },
   "outputs": [],
   "source": [
    "name_loc = xls.parse(2)\n",
    "name_loc.drop_duplicates(inplace=True)"
   ]
  },
  {
   "cell_type": "code",
   "execution_count": null,
   "metadata": {},
   "outputs": [],
   "source": [
    "print(\"Column headings:\", name_loc.columns)"
   ]
  },
  {
   "cell_type": "code",
   "execution_count": null,
   "metadata": {
    "collapsed": true
   },
   "outputs": [],
   "source": [
    "name_loc"
   ]
  },
  {
   "cell_type": "code",
   "execution_count": null,
   "metadata": {
    "collapsed": true
   },
   "outputs": [],
   "source": [
    "name_loc.set_index('Unit # ', inplace=True)"
   ]
  },
  {
   "cell_type": "code",
   "execution_count": null,
   "metadata": {
    "collapsed": true
   },
   "outputs": [],
   "source": [
    "name_loc.head()"
   ]
  },
  {
   "cell_type": "code",
   "execution_count": null,
   "metadata": {},
   "outputs": [],
   "source": [
    "name_loc.drop(['Unit #'])\n",
    "print(\"Column headings:\", name_loc.columns)"
   ]
  },
  {
   "cell_type": "code",
   "execution_count": null,
   "metadata": {
    "collapsed": true
   },
   "outputs": [],
   "source": [
    "name_loc.rename(columns={'Unit # ':'unit', 'Tenant':'store'}, inplace=True)\n",
    "name_loc.head()"
   ]
  },
  {
   "cell_type": "code",
   "execution_count": null,
   "metadata": {},
   "outputs": [],
   "source": [
    "print(\"Column headings:\", name_loc.columns)"
   ]
  },
  {
   "cell_type": "code",
   "execution_count": null,
   "metadata": {
    "collapsed": true
   },
   "outputs": [],
   "source": []
  },
  {
   "cell_type": "code",
   "execution_count": null,
   "metadata": {
    "collapsed": true
   },
   "outputs": [],
   "source": []
  },
  {
   "cell_type": "code",
   "execution_count": null,
   "metadata": {
    "collapsed": true
   },
   "outputs": [],
   "source": []
  },
  {
   "cell_type": "code",
   "execution_count": null,
   "metadata": {
    "collapsed": true
   },
   "outputs": [],
   "source": [
    "df1.dtypes"
   ]
  },
  {
   "cell_type": "code",
   "execution_count": null,
   "metadata": {
    "collapsed": true
   },
   "outputs": [],
   "source": [
    "df1['day'] = pd.DatetimeIndex(df1['time_start']).day\n",
    "df1['month'] = pd.DatetimeIndex(df1['time_start']).month\n",
    "df1['year'] = pd.DatetimeIndex(df1['time_start']).year"
   ]
  },
  {
   "cell_type": "code",
   "execution_count": null,
   "metadata": {
    "collapsed": true
   },
   "outputs": [],
   "source": [
    "import dateutil\n",
    "df1['date'] = df1['time_start'].apply(dateutil.parser.parse, yearfirst=True)"
   ]
  },
  {
   "cell_type": "code",
   "execution_count": null,
   "metadata": {},
   "outputs": [],
   "source": [
    "df1['week'] = df1['date'].dt.week\n",
    "df1.head(50)"
   ]
  },
  {
   "cell_type": "code",
   "execution_count": null,
   "metadata": {
    "collapsed": true
   },
   "outputs": [],
   "source": [
    "# plt.figure(figsize=(20,20))\n",
    "# plt.plot( df1['day'], df1['traffic_2'])\n",
    "# plt.show()"
   ]
  },
  {
   "cell_type": "markdown",
   "metadata": {
    "collapsed": true
   },
   "source": [
    "week1 = (df1['date'] > '2017-12-03') & (df1['date'] <= '2017-12-09')\n",
    "week2 = (df1['date'] > '2017-12-10') & (df1['date'] <= '2017-12-16')\n",
    "week3 = (df1['date'] > '2017-12-17') & (df1['date'] <= '2017-12-23')\n",
    "week4 = (df1['date'] > '2017-12-24') & (df1['date'] <= '2017-12-30')\n",
    "week5 = (df1['date'] > '2017-12-31') & (df1['date'] <= '2018-01-06')\n",
    "week6 = (df1['date'] > '2018-01-07') & (df1['date'] <= '2018-01-13')\n",
    "week7 = (df1['date'] > '2018-01-14') & (df1['date'] <= '2018-01-20')\n",
    "week8 = (df1['date'] > '2018-01-21') & (df1['date'] <= '2018-01-27')\n",
    "week9 = (df1['date'] > '2018-01-28') & (df1['date'] <= '2018-02-03')\n",
    "week10 = (df1['date'] > '2018-02-04') & (df1['date'] <= '2018-02-10')\n",
    "week11 = (df1['date'] > '2018-02-11') & (df1['date'] <= '2018-02-17')\n",
    "week12 = (df1['date'] > '2018-02-18') & (df1['date'] <= '2018-02-24')"
   ]
  },
  {
   "cell_type": "code",
   "execution_count": null,
   "metadata": {
    "collapsed": true
   },
   "outputs": [],
   "source": [
    "mens = ['Shoppers Mens','Nadege Mens','Harry Rosen Flow','Starbucks Mens','Pandora Mens','Bvlgari Mens','Babaton Mens','FC Mens','FC Emp Mens']\n",
    "womens = ['Shoppers Ladies','Babaton Ladies','Holt Renfrew Ext','Holt Flow','FC Ladies','Pandora Ladies','Nadege Ladies','Starbucks Ladies',' Bvlgari Ladies','Pandora Nursing','FC Emp Ladies']\n",
    "general = ['Subway','Tim Hortons','Source','Go Transit', 'Scotia Flow', 'Ent G Microsoft', 'Rest H CO', 'Nadege Family', 'Starbucks Fam2', 'Starbucks Fam1',\n",
    "'Pandora Family','Nordstrom CO','Ent A3 Sport Chek','Ent J3 Shoppers','Ent A2 Jamies','Cheescake CO','Rest H Ext','Bay West J3']\n",
    "parking =['FC Esc N','E Parkade P2-N','Ent E','F Parkade P2','E Parkade P3-S','Ent J2','FC Elev S','E Parkade P4-N',\n",
    "'E Parkade P5-N','E Parkade P1-N','Ent J1','E Parkade P2-S','E Parkade P4-S','E Parkade P5-S','E Parkade P1-S','F Parkade P1',\n",
    "'FC Elev N','E Parkade P3-N','Ent F Valet','E Parkade P1-E','F Parkade Holt P2','Nord P1 East','Bay North A1','F Parkade Holt P1','C Park Nord L2',\n",
    "'E Parkade P5-E','E Parkade P4-E','C Park Nord L1','E Parkade P3-E','E Parkade P2-E','Ent H','Ent A1 PB'  ]"
   ]
  },
  {
   "cell_type": "code",
   "execution_count": null,
   "metadata": {
    "collapsed": true
   },
   "outputs": [],
   "source": [
    "mens_data = df1[ df1['store_name'].isin(mens)]\n",
    "# week1 = mens_data[(mens_data['date'] > '2017-12-03') & (mens_data['date'] <= '2017-12-09')]"
   ]
  },
  {
   "cell_type": "code",
   "execution_count": null,
   "metadata": {
    "collapsed": true
   },
   "outputs": [],
   "source": [
    "# visit_mask = df1['traffic_2']\n",
    "mens_mask = df1['store_name'].isin(mens)"
   ]
  },
  {
   "cell_type": "code",
   "execution_count": null,
   "metadata": {
    "collapsed": true
   },
   "outputs": [],
   "source": [
    "df1['mens'] = df1['store_name'].isin(mens)\n",
    "df1['womens'] = df1['store_name'].isin(womens)\n",
    "df1['general'] = df1['store_name'].isin(general)\n",
    "df1['parking'] = df1['store_name'].isin(parking)\n",
    "df1[31950:32000]"
   ]
  },
  {
   "cell_type": "code",
   "execution_count": null,
   "metadata": {
    "collapsed": true
   },
   "outputs": [],
   "source": [
    "traffic_men = df1.groupby( [ df1['week'], df1['month'], df1['year'], df1['mens']])['traffic_2'].sum().reset_index()\n",
    "traffic_women = df1.groupby( [ df1['week'], df1['month'], df1['year'], df1['womens'] ])['traffic_2'].sum().reset_index()\n",
    "traffic_men = traffic_men[ traffic_men.mens] # to extract only the values where mens==True\n",
    "traffic_men.head(100)"
   ]
  },
  {
   "cell_type": "code",
   "execution_count": null,
   "metadata": {
    "collapsed": true
   },
   "outputs": [],
   "source": []
  },
  {
   "cell_type": "code",
   "execution_count": null,
   "metadata": {
    "collapsed": true
   },
   "outputs": [],
   "source": [
    "traffic_men.drop(['mens'], axis=1,inplace=True)"
   ]
  },
  {
   "cell_type": "code",
   "execution_count": null,
   "metadata": {
    "collapsed": true
   },
   "outputs": [],
   "source": [
    "traffic_men.rename(index=str, columns={'traffic_2':'men'})"
   ]
  },
  {
   "cell_type": "code",
   "execution_count": null,
   "metadata": {
    "collapsed": true
   },
   "outputs": [],
   "source": [
    "traffic_women = traffic_women[ traffic_women.womens] # to extract only the values where womens==True\n",
    "traffic_women.rename(index=str, columns={'traffic_2':'women'})\n",
    "traffic_women.head(100)"
   ]
  },
  {
   "cell_type": "code",
   "execution_count": null,
   "metadata": {
    "collapsed": true
   },
   "outputs": [],
   "source": [
    "combined = traffic_men\n",
    "combined.rename(index=str, columns={'traffic_2':'men'})"
   ]
  },
  {
   "cell_type": "code",
   "execution_count": null,
   "metadata": {},
   "outputs": [],
   "source": [
    "combined.columns.tolist()"
   ]
  },
  {
   "cell_type": "code",
   "execution_count": null,
   "metadata": {
    "collapsed": true
   },
   "outputs": [],
   "source": [
    "combined['women'] =  traffic_women['traffic_2']\n",
    "combined.head(100)"
   ]
  },
  {
   "cell_type": "code",
   "execution_count": null,
   "metadata": {
    "collapsed": true
   },
   "outputs": [],
   "source": [
    "combined.rename(index=str, columns={'traffic_2':'men'},inplace=True)"
   ]
  },
  {
   "cell_type": "code",
   "execution_count": null,
   "metadata": {
    "collapsed": true
   },
   "outputs": [],
   "source": [
    "combined.sort_values(by=['year', 'week'], inplace=True)"
   ]
  },
  {
   "cell_type": "code",
   "execution_count": null,
   "metadata": {
    "collapsed": true
   },
   "outputs": [],
   "source": []
  },
  {
   "cell_type": "markdown",
   "metadata": {},
   "source": [
    "combined2 = traffic_men.append(traffic_women)\n",
    "combined2.reset_index(drop=True)\n",
    "combined2.head(100)"
   ]
  },
  {
   "cell_type": "code",
   "execution_count": null,
   "metadata": {
    "scrolled": true
   },
   "outputs": [],
   "source": [
    "combined.plot(x='week', y=['men', 'women'], kind='bar')\n",
    "plt.show()"
   ]
  },
  {
   "cell_type": "code",
   "execution_count": null,
   "metadata": {},
   "outputs": [],
   "source": [
    "total_traffic = df1.groupby( [ df1['week'], df1['month'], df1['year'], df1['parking']])['traffic_2'].sum().reset_index()\n",
    "total_traffic = total_traffic[ total_traffic.parking]\n",
    "total_traffic.rename(index=str, columns={'traffic_2':'visitors'},inplace=True)\n",
    "total_traffic.head()"
   ]
  },
  {
   "cell_type": "code",
   "execution_count": null,
   "metadata": {
    "collapsed": true
   },
   "outputs": [],
   "source": [
    "total_traffic.sort_values(by=['year', 'week'], inplace=True)"
   ]
  },
  {
   "cell_type": "code",
   "execution_count": null,
   "metadata": {},
   "outputs": [],
   "source": [
    "total_traffic.plot(x='week', y=['visitors'], kind='bar')\n",
    "plt.show()"
   ]
  },
  {
   "cell_type": "code",
   "execution_count": null,
   "metadata": {
    "collapsed": true
   },
   "outputs": [],
   "source": []
  },
  {
   "cell_type": "code",
   "execution_count": null,
   "metadata": {
    "collapsed": true
   },
   "outputs": [],
   "source": []
  },
  {
   "cell_type": "code",
   "execution_count": null,
   "metadata": {
    "collapsed": true
   },
   "outputs": [],
   "source": []
  },
  {
   "cell_type": "code",
   "execution_count": null,
   "metadata": {
    "collapsed": true
   },
   "outputs": [],
   "source": []
  },
  {
   "cell_type": "code",
   "execution_count": null,
   "metadata": {
    "collapsed": true
   },
   "outputs": [],
   "source": []
  },
  {
   "cell_type": "code",
   "execution_count": null,
   "metadata": {
    "collapsed": true
   },
   "outputs": [],
   "source": []
  },
  {
   "cell_type": "code",
   "execution_count": null,
   "metadata": {
    "collapsed": true
   },
   "outputs": [],
   "source": []
  },
  {
   "cell_type": "code",
   "execution_count": null,
   "metadata": {
    "collapsed": true
   },
   "outputs": [],
   "source": []
  },
  {
   "cell_type": "code",
   "execution_count": null,
   "metadata": {
    "collapsed": true
   },
   "outputs": [],
   "source": []
  },
  {
   "cell_type": "code",
   "execution_count": null,
   "metadata": {
    "collapsed": true
   },
   "outputs": [],
   "source": []
  },
  {
   "cell_type": "code",
   "execution_count": null,
   "metadata": {
    "collapsed": true
   },
   "outputs": [],
   "source": []
  },
  {
   "cell_type": "code",
   "execution_count": null,
   "metadata": {
    "collapsed": true
   },
   "outputs": [],
   "source": []
  },
  {
   "cell_type": "code",
   "execution_count": null,
   "metadata": {
    "collapsed": true
   },
   "outputs": [],
   "source": []
  },
  {
   "cell_type": "code",
   "execution_count": null,
   "metadata": {
    "collapsed": true
   },
   "outputs": [],
   "source": []
  },
  {
   "cell_type": "code",
   "execution_count": null,
   "metadata": {
    "collapsed": true
   },
   "outputs": [],
   "source": []
  },
  {
   "cell_type": "code",
   "execution_count": null,
   "metadata": {
    "collapsed": true
   },
   "outputs": [],
   "source": []
  },
  {
   "cell_type": "code",
   "execution_count": null,
   "metadata": {
    "collapsed": true
   },
   "outputs": [],
   "source": []
  },
  {
   "cell_type": "code",
   "execution_count": null,
   "metadata": {
    "collapsed": true
   },
   "outputs": [],
   "source": []
  }
 ],
 "metadata": {
  "kernelspec": {
   "display_name": "Python 3",
   "language": "python",
   "name": "python3"
  },
  "language_info": {
   "codemirror_mode": {
    "name": "ipython",
    "version": 3
   },
   "file_extension": ".py",
   "mimetype": "text/x-python",
   "name": "python",
   "nbconvert_exporter": "python",
   "pygments_lexer": "ipython3",
   "version": "3.6.3"
  }
 },
 "nbformat": 4,
 "nbformat_minor": 2
}
